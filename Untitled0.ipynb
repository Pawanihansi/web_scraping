{
  "nbformat": 4,
  "nbformat_minor": 0,
  "metadata": {
    "colab": {
      "provenance": [],
      "authorship_tag": "ABX9TyO+A2UUMUYhN34Vg5lbno7/",
      "include_colab_link": true
    },
    "kernelspec": {
      "name": "python3",
      "display_name": "Python 3"
    },
    "language_info": {
      "name": "python"
    }
  },
  "cells": [
    {
      "cell_type": "markdown",
      "metadata": {
        "id": "view-in-github",
        "colab_type": "text"
      },
      "source": [
        "<a href=\"https://colab.research.google.com/github/Pawanihansi/web_scraping/blob/main/Untitled0.ipynb\" target=\"_parent\"><img src=\"https://colab.research.google.com/assets/colab-badge.svg\" alt=\"Open In Colab\"/></a>"
      ]
    },
    {
      "cell_type": "code",
      "execution_count": 1,
      "metadata": {
        "id": "N1OsnbRp3j7k"
      },
      "outputs": [],
      "source": [
        "import requests\n",
        "import lxml\n",
        "from bs4 import BeautifulSoup\n",
        "from xlwt import *\n",
        "url=\"https://www.imdb.com/chart/top/\"\n",
        "headers = {'User_Agent' : 'Mozilla/5.0 (Macintosh; Intel mac OS X 10_10_1) AppleWebKit/537.36 (KHTML, like Gecko) Chrome/39.0.2171.95 Safari/537.36'}\n",
        "\n",
        "f= requests.get(url,headers)\n",
        "\n",
        "soup = BeautifulSoup(f.content,'lxml')\n",
        "table = soup.find('table' ,{'data-caller-name': 'chart-top250movie'})\n",
        "tr = table.find_all(\"tr\")\n",
        "movies_lst=[]\n",
        "num = 0\n",
        "\n",
        "workbook = Workbook(encoding = 'utf-8')\n",
        "\n",
        "table = workbook.add_sheet('data')\n",
        "table.write(0,0,'Number')\n",
        "table.write(0,1,'movie_url')\n",
        "table.write(0,2,'movie_name')\n",
        "table.write(0,3,'movie_introduction')\n",
        "line = 1\n",
        "\n",
        "for each_tr in tr:\n",
        "    td = each_tr.find_all('td',{'class' : 'titleColumn'})\n",
        "\n",
        "    for each_td in td :\n",
        "        ulink = each_td.a['href']\n",
        "        url = 'https://www.imdb.com' + ulink\n",
        "        movies_lst.append(url)\n",
        "        num += 1\n",
        "        movie_url = url\n",
        "        movie_f =requests.get(movie_url,headers=headers)\n",
        "        movie_soup = BeautifulSoup(movie_f.content,'lxml')\n",
        "\n",
        "        movie_content = movie_soup.find('span',{'data-testid': 'plot-xl'})\n",
        "        movie_title =movie_soup.find('h1')\n",
        "\n",
        "        table.write(line,0,num)\n",
        "        table.write(line,1,url)\n",
        "        table.write(line,2,movie_title.string.strip())\n",
        "        table.write(line,3,movie_content.string.strip())\n",
        "        line += 1\n",
        "        workbook.save('movies_top100.xls')\n"
      ]
    },
    {
      "cell_type": "code",
      "source": [],
      "metadata": {
        "id": "JWeUzJgBCre4"
      },
      "execution_count": null,
      "outputs": []
    }
  ]
}